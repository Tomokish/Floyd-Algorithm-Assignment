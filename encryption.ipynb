{
  "nbformat": 4,
  "nbformat_minor": 0,
  "metadata": {
    "colab": {
      "provenance": [],
      "include_colab_link": true
    },
    "kernelspec": {
      "name": "python3",
      "display_name": "Python 3"
    },
    "language_info": {
      "name": "python"
    }
  },
  "cells": [
    {
      "cell_type": "markdown",
      "metadata": {
        "id": "view-in-github",
        "colab_type": "text"
      },
      "source": [
        "<a href=\"https://colab.research.google.com/github/Tomokish/Floyd-Algorithm-Assignment/blob/main/encryption.ipynb\" target=\"_parent\"><img src=\"https://colab.research.google.com/assets/colab-badge.svg\" alt=\"Open In Colab\"/></a>"
      ]
    },
    {
      "cell_type": "markdown",
      "metadata": {
        "id": "CIzN_12negeD"
      },
      "source": [
        "Install packages for demo"
      ]
    },
    {
      "cell_type": "code",
      "metadata": {
        "colab": {
          "base_uri": "https://localhost:8080/"
        },
        "id": "dL7-Q2CjeSs-",
        "outputId": "987e41fd-a47a-443d-f0c6-a845b2e57cfa"
      },
      "source": [
        "! pip install cryptography"
      ],
      "execution_count": null,
      "outputs": [
        {
          "output_type": "stream",
          "text": [
            "Collecting cryptography\n",
            "\u001b[?25l  Downloading https://files.pythonhosted.org/packages/f8/1f/acde6ff69864c5e78b56488e3afd93c1ccc8c2651186e2a5f93d93f64859/cryptography-3.4.6-cp36-abi3-manylinux2014_x86_64.whl (3.2MB)\n",
            "\u001b[K     |████████████████████████████████| 3.2MB 8.1MB/s \n",
            "\u001b[?25hRequirement already satisfied: cffi>=1.12 in /usr/local/lib/python3.7/dist-packages (from cryptography) (1.14.5)\n",
            "Requirement already satisfied: pycparser in /usr/local/lib/python3.7/dist-packages (from cffi>=1.12->cryptography) (2.20)\n",
            "Installing collected packages: cryptography\n",
            "Successfully installed cryptography-3.4.6\n"
          ],
          "name": "stdout"
        }
      ]
    },
    {
      "cell_type": "markdown",
      "metadata": {
        "id": "XIpRCd4yeqKU"
      },
      "source": [
        "Demo taken from https://www.geeksforgeeks.org/how-to-encrypt-and-decrypt-strings-in-python/"
      ]
    },
    {
      "cell_type": "code",
      "metadata": {
        "colab": {
          "base_uri": "https://localhost:8080/"
        },
        "id": "H1Hk_t4Rey1X",
        "outputId": "73b12c06-a021-4633-c99c-5c319809ae96"
      },
      "source": [
        "from cryptography.fernet import Fernet\n",
        "\n",
        "# we will be encryting the below string.\n",
        "message = \"hello geeks\"\n",
        "\n",
        "# generate a key for encryptio and decryption\n",
        "# You can use fernet to generate\n",
        "# the key or use random key generator\n",
        "# here I'm using fernet to generate key\n",
        "\n",
        "key = Fernet.generate_key()\n",
        "\n",
        "# Instance the Fernet class with the key\n",
        "\n",
        "fernet = Fernet(key)\n",
        "\n",
        "# then use the Fernet class instance\n",
        "# to encrypt the string string must must\n",
        "# be encoded to byte string before encryption\n",
        "encMessage = fernet.encrypt(message.encode())\n",
        "\n",
        "print(\"original string: \", message)\n",
        "print(\"encrypted string: \", encMessage)\n",
        "\n",
        "# decrypt the encrypted string with the\n",
        "# Fernet instance of the key,\n",
        "# that was used for encrypting the string\n",
        "# encoded byte string is returned by decrypt method,\n",
        "# so decode it to string with decode methos\n",
        "decMessage = fernet.decrypt(encMessage).decode()\n",
        "\n",
        "print(\"decrypted string: \", decMessage)"
      ],
      "execution_count": null,
      "outputs": [
        {
          "output_type": "stream",
          "text": [
            "original string:  hello geeks\n",
            "encrypted string:  b'gAAAAABgW0QuGhOB-eE-D4_vEOv-MFuqW55QJzW3qXHnwMKBo95ypBCZXSc-gtuYYE_XYsY0I6NT-fUsxT_qGN30iu7qZWQO_w=='\n",
            "decrypted string:  hello geeks\n"
          ],
          "name": "stdout"
        }
      ]
    }
  ]
}